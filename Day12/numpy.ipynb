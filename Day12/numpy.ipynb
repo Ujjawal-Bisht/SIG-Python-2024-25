{
 "cells": [
  {
   "cell_type": "markdown",
   "id": "bf32da9f",
   "metadata": {},
   "source": [
    "# Numpy"
   ]
  },
  {
   "cell_type": "markdown",
   "id": "3941ae05",
   "metadata": {},
   "source": [
    "numpy - numeric python\n",
    "fast calculation\n",
    "\n",
    "## conventional method\n",
    "l = [1,2,3,4,5,6,7,8,9]\n",
    "sum = 0 \n",
    "for i in l:\n",
    "    sum = sum + i\n",
    "print(sum)\n",
    "\n",
    "#fast method using numpy\n",
    "import numpy as np\n",
    "l = np.array([1,2,3,4,5,6,7,8,9])\n",
    "print(np.sum(l))"
   ]
  },
  {
   "cell_type": "code",
   "execution_count": 3,
   "id": "f6c591cf",
   "metadata": {},
   "outputs": [],
   "source": [
    "import numpy as np\n",
    "l = [1, 2.4, 'hello', True] #List\n",
    "a = np.array(l)    # Array\n"
   ]
  },
  {
   "cell_type": "markdown",
   "id": "616dd2e7",
   "metadata": {},
   "source": [
    "## Creating a numpy array"
   ]
  },
  {
   "cell_type": "code",
   "execution_count": 13,
   "id": "ce1ac92a",
   "metadata": {},
   "outputs": [
    {
     "data": {
      "text/plain": [
       "array([[1, 2, 3],\n",
       "       [4, 5, 6],\n",
       "       [7, 8, 9]])"
      ]
     },
     "execution_count": 13,
     "metadata": {},
     "output_type": "execute_result"
    }
   ],
   "source": [
    "list1 = [[1,2,3],[4,5,6],[7,8,9]]\n",
    "array1 = np.array(list1)\n",
    "array1"
   ]
  },
  {
   "cell_type": "code",
   "execution_count": 6,
   "id": "b1954a50",
   "metadata": {},
   "outputs": [
    {
     "data": {
      "text/plain": [
       "array([[0., 0., 0.],\n",
       "       [0., 0., 0.]])"
      ]
     },
     "execution_count": 6,
     "metadata": {},
     "output_type": "execute_result"
    }
   ],
   "source": [
    "#  Method2\n",
    "array2 = np.zeros((2,3))\n",
    "array2"
   ]
  },
  {
   "cell_type": "code",
   "execution_count": 8,
   "id": "9fd6a03e",
   "metadata": {},
   "outputs": [
    {
     "data": {
      "text/plain": [
       "array([[1., 1., 1.],\n",
       "       [1., 1., 1.]])"
      ]
     },
     "execution_count": 8,
     "metadata": {},
     "output_type": "execute_result"
    }
   ],
   "source": [
    "#  Method3\n",
    "array3 = np.ones((2,3))\n",
    "array3\n"
   ]
  },
  {
   "cell_type": "markdown",
   "id": "43ff273b",
   "metadata": {},
   "source": []
  },
  {
   "cell_type": "code",
   "execution_count": 10,
   "id": "c3d64ac5",
   "metadata": {},
   "outputs": [
    {
     "data": {
      "text/plain": [
       "array([[99, 99, 99],\n",
       "       [99, 99, 99],\n",
       "       [99, 99, 99]])"
      ]
     },
     "execution_count": 10,
     "metadata": {},
     "output_type": "execute_result"
    }
   ],
   "source": [
    "#Method4\n",
    "array4 = np.full((3,3), 99)\n",
    "array4"
   ]
  },
  {
   "cell_type": "code",
   "execution_count": 11,
   "id": "558d3941",
   "metadata": {},
   "outputs": [
    {
     "data": {
      "text/plain": [
       "array([0, 2, 4, 6, 8])"
      ]
     },
     "execution_count": 11,
     "metadata": {},
     "output_type": "execute_result"
    }
   ],
   "source": [
    "# Method 5\n",
    "array5 = np.arange(0, 10, 2)\n",
    "array5"
   ]
  },
  {
   "cell_type": "code",
   "execution_count": 12,
   "id": "220c32d7",
   "metadata": {},
   "outputs": [
    {
     "data": {
      "text/plain": [
       "array([0.  , 0.25, 0.5 , 0.75, 1.  ])"
      ]
     },
     "execution_count": 12,
     "metadata": {},
     "output_type": "execute_result"
    }
   ],
   "source": [
    "#Method 6\n",
    "array6 = np.linspace(0, 1, 5)\n",
    "array6"
   ]
  },
  {
   "cell_type": "code",
   "execution_count": null,
   "id": "e7337a51",
   "metadata": {},
   "outputs": [],
   "source": []
  },
  {
   "cell_type": "code",
   "execution_count": null,
   "id": "3c7b0486",
   "metadata": {},
   "outputs": [
    {
     "name": "stdout",
     "output_type": "stream",
     "text": [
      "[[1 2 3]\n",
      " [4 5 6]\n",
      " [7 8 9]]\n",
      "(3, 3)\n",
      "int32\n",
      "2\n",
      "9\n",
      "4\n",
      "<memory at 0x0000020535377B90>\n"
     ]
    }
   ],
   "source": [
    "arr = np.array([[1,2,3],[4,5,6],[7,8,9]])\n",
    "\n",
    "print(arr)\n",
    "print(arr.shape)\n",
    "print(arr.dtype)\n",
    "print(arr.ndim)\n",
    "print(arr.size)\n",
    "print(arr.itemsize)\n",
    "print(arr.data)"
   ]
  },
  {
   "cell_type": "code",
   "execution_count": null,
   "id": "77dbe066",
   "metadata": {},
   "outputs": [
    {
     "data": {
      "text/plain": [
       "array([[5, 6],\n",
       "       [8, 9]])"
      ]
     },
     "execution_count": 24,
     "metadata": {},
     "output_type": "execute_result"
    }
   ],
   "source": [
    "arr[1:,1:]"
   ]
  },
  {
   "cell_type": "code",
   "execution_count": 27,
   "id": "bf68d799",
   "metadata": {},
   "outputs": [
    {
     "name": "stdout",
     "output_type": "stream",
     "text": [
      "[11 22 33 44 55 66 77 88 99]\n",
      "[ -9 -18 -27 -36 -45 -54 -63 -72 -81]\n",
      "[ 10  40  90 160 250 360 490 640 810]\n",
      "[0.1 0.1 0.1 0.1 0.1 0.1 0.1 0.1 0.1]\n",
      "[1 2 3 4 5 6 7 8 9]\n",
      "[          1     1048576 -1010140999           0  1296002393           0\n",
      "  1187094929           0  -949019631]\n",
      "[0 0 0 0 0 0 0 0 0]\n",
      "[False False False False False False False False False]\n",
      "[ True  True  True  True  True  True  True  True  True]\n",
      "[False False False False False False False False False]\n",
      "[ True  True  True  True  True  True  True  True  True]\n",
      "[False False False False False False False False False]\n",
      "[ True  True  True  True  True  True  True  True  True]\n"
     ]
    }
   ],
   "source": [
    "a = np.array([1,2,3,4,5,6,7,8,9])\n",
    "b = np.array([10,20,30,40,50,60,70,80,90])\n",
    "\n",
    "print(a + b)\n",
    "print(a - b)\n",
    "print(a * b)\n",
    "print(a / b)\n",
    "print(a % b)\n",
    "print(a ** b)\n",
    "print(a // b)\n",
    "print(a > b)\n",
    "print(a < b)\n",
    "print(a >= b)\n",
    "print(a <= b)\n",
    "print(a == b)\n",
    "print(a != b)"
   ]
  },
  {
   "cell_type": "code",
   "execution_count": 29,
   "id": "dca05474",
   "metadata": {},
   "outputs": [
    {
     "name": "stdout",
     "output_type": "stream",
     "text": [
      "45\n",
      "5.0\n",
      "9\n",
      "2.581988897471611\n"
     ]
    }
   ],
   "source": [
    "arr\n",
    "print(np.sum(arr))\n",
    "print(np.mean(arr))\n",
    "print(np.max(arr))\n",
    "print(np.std(arr))"
   ]
  },
  {
   "cell_type": "code",
   "execution_count": null,
   "id": "5d63dcae",
   "metadata": {},
   "outputs": [
    {
     "name": "stdout",
     "output_type": "stream",
     "text": [
      "[[ 1]\n",
      " [ 2]\n",
      " [ 4]\n",
      " [ 5]\n",
      " [ 6]\n",
      " [ 7]\n",
      " [ 8]\n",
      " [ 9]\n",
      " [10]]\n"
     ]
    }
   ],
   "source": [
    "arr = np.array([1,2,4,5,6,7,8,9,10])\n",
    "\n",
    "print(arr.reshape(9,1))"
   ]
  },
  {
   "cell_type": "code",
   "execution_count": 36,
   "id": "f8450cc0",
   "metadata": {},
   "outputs": [
    {
     "name": "stdout",
     "output_type": "stream",
     "text": [
      "[ 6  7  8  9 10]\n"
     ]
    }
   ],
   "source": [
    "print(arr[arr >5])"
   ]
  },
  {
   "cell_type": "code",
   "execution_count": null,
   "id": "f07a2f40",
   "metadata": {},
   "outputs": [
    {
     "name": "stdout",
     "output_type": "stream",
     "text": [
      "[2 5 7]\n"
     ]
    }
   ],
   "source": [
    "print(arr[[1,3,5]]) # pick elements at index 1, 3, 5"
   ]
  },
  {
   "cell_type": "code",
   "execution_count": 39,
   "id": "92ae6225",
   "metadata": {},
   "outputs": [
    {
     "name": "stdout",
     "output_type": "stream",
     "text": [
      "[ 2  4  6  8 10]\n"
     ]
    }
   ],
   "source": [
    "print(arr[arr%2 == 0])# print even numbers"
   ]
  },
  {
   "cell_type": "code",
   "execution_count": 45,
   "id": "da4aa356",
   "metadata": {},
   "outputs": [
    {
     "name": "stdout",
     "output_type": "stream",
     "text": [
      "[[ 30  36  42]\n",
      " [ 66  81  96]\n",
      " [102 126 150]]\n",
      "[[1 4 7]\n",
      " [2 5 8]\n",
      " [3 6 9]]\n",
      "[[-2.   1. ]\n",
      " [ 1.5 -0.5]]\n",
      "-2.0000000000000004\n"
     ]
    }
   ],
   "source": [
    "a = np.array([[1,2,3],[4,5,6],[7,8,9]])\n",
    "b = np.array([[1,2,3],[4,5,6],[7,8,9]])\n",
    "c = np.array([[1,2],[3,4]])\n",
    "print(np.dot(a,b))\n",
    "print(np.transpose(a))\n",
    "print(np.linalg.inv(c))# Inverse\n",
    "print(np.linalg.det(c))# Determinant"
   ]
  },
  {
   "cell_type": "code",
   "execution_count": 51,
   "id": "61e7b335",
   "metadata": {},
   "outputs": [
    {
     "name": "stdout",
     "output_type": "stream",
     "text": [
      "[100   2   4   5   6   7   8   9  10]\n",
      "[100   2   4   5   6   7   8   9  10]\n"
     ]
    }
   ],
   "source": [
    "arr[0] = 100\n",
    "x = arr.view()\n",
    "print(x)\n",
    "\n",
    "y = arr.copy()\n",
    "print(y)"
   ]
  },
  {
   "cell_type": "code",
   "execution_count": null,
   "id": "f2bf38e6",
   "metadata": {},
   "outputs": [],
   "source": []
  },
  {
   "cell_type": "code",
   "execution_count": null,
   "id": "2cf0c79c",
   "metadata": {},
   "outputs": [],
   "source": []
  }
 ],
 "metadata": {
  "kernelspec": {
   "display_name": "condaenv",
   "language": "python",
   "name": "condaenv"
  },
  "language_info": {
   "codemirror_mode": {
    "name": "ipython",
    "version": 3
   },
   "file_extension": ".py",
   "mimetype": "text/x-python",
   "name": "python",
   "nbconvert_exporter": "python",
   "pygments_lexer": "ipython3",
   "version": "3.12.7"
  }
 },
 "nbformat": 4,
 "nbformat_minor": 5
}
