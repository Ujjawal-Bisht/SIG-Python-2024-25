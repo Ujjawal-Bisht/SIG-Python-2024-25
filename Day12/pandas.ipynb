{
 "cells": [
  {
   "cell_type": "markdown",
   "id": "efb3a641",
   "metadata": {},
   "source": [
    "# Pandas"
   ]
  },
  {
   "cell_type": "markdown",
   "id": "690dd1fa",
   "metadata": {},
   "source": [
    "Pandas - Data Analytics\n",
    "Series - 1D\n",
    "DataFrame - 2D"
   ]
  },
  {
   "cell_type": "code",
   "execution_count": 53,
   "id": "9bea067d",
   "metadata": {},
   "outputs": [],
   "source": [
    "import pandas as pd"
   ]
  },
  {
   "cell_type": "code",
   "execution_count": 54,
   "id": "3bc65ea6",
   "metadata": {},
   "outputs": [
    {
     "data": {
      "text/plain": [
       "0    1\n",
       "1    2\n",
       "2    3\n",
       "dtype: int64"
      ]
     },
     "execution_count": 54,
     "metadata": {},
     "output_type": "execute_result"
    }
   ],
   "source": [
    "a = pd.Series([1, 2, 3])\n",
    "a"
   ]
  },
  {
   "cell_type": "code",
   "execution_count": 55,
   "id": "365079b6",
   "metadata": {},
   "outputs": [
    {
     "data": {
      "text/html": [
       "<div>\n",
       "<style scoped>\n",
       "    .dataframe tbody tr th:only-of-type {\n",
       "        vertical-align: middle;\n",
       "    }\n",
       "\n",
       "    .dataframe tbody tr th {\n",
       "        vertical-align: top;\n",
       "    }\n",
       "\n",
       "    .dataframe thead th {\n",
       "        text-align: right;\n",
       "    }\n",
       "</style>\n",
       "<table border=\"1\" class=\"dataframe\">\n",
       "  <thead>\n",
       "    <tr style=\"text-align: right;\">\n",
       "      <th></th>\n",
       "      <th>0</th>\n",
       "      <th>1</th>\n",
       "      <th>2</th>\n",
       "    </tr>\n",
       "  </thead>\n",
       "  <tbody>\n",
       "    <tr>\n",
       "      <th>0</th>\n",
       "      <td>1</td>\n",
       "      <td>2</td>\n",
       "      <td>3</td>\n",
       "    </tr>\n",
       "    <tr>\n",
       "      <th>1</th>\n",
       "      <td>4</td>\n",
       "      <td>5</td>\n",
       "      <td>6</td>\n",
       "    </tr>\n",
       "    <tr>\n",
       "      <th>2</th>\n",
       "      <td>7</td>\n",
       "      <td>8</td>\n",
       "      <td>9</td>\n",
       "    </tr>\n",
       "  </tbody>\n",
       "</table>\n",
       "</div>"
      ],
      "text/plain": [
       "   0  1  2\n",
       "0  1  2  3\n",
       "1  4  5  6\n",
       "2  7  8  9"
      ]
     },
     "execution_count": 55,
     "metadata": {},
     "output_type": "execute_result"
    }
   ],
   "source": [
    "b = pd.DataFrame([[1, 2, 3], [4, 5, 6], [7, 8, 9]])\n",
    "b"
   ]
  },
  {
   "cell_type": "code",
   "execution_count": 56,
   "id": "f6c77870",
   "metadata": {},
   "outputs": [
    {
     "data": {
      "text/html": [
       "<div>\n",
       "<style scoped>\n",
       "    .dataframe tbody tr th:only-of-type {\n",
       "        vertical-align: middle;\n",
       "    }\n",
       "\n",
       "    .dataframe tbody tr th {\n",
       "        vertical-align: top;\n",
       "    }\n",
       "\n",
       "    .dataframe thead th {\n",
       "        text-align: right;\n",
       "    }\n",
       "</style>\n",
       "<table border=\"1\" class=\"dataframe\">\n",
       "  <thead>\n",
       "    <tr style=\"text-align: right;\">\n",
       "      <th></th>\n",
       "      <th>A</th>\n",
       "      <th>B</th>\n",
       "      <th>C</th>\n",
       "    </tr>\n",
       "  </thead>\n",
       "  <tbody>\n",
       "    <tr>\n",
       "      <th>0</th>\n",
       "      <td>1</td>\n",
       "      <td>4</td>\n",
       "      <td>7</td>\n",
       "    </tr>\n",
       "    <tr>\n",
       "      <th>1</th>\n",
       "      <td>2</td>\n",
       "      <td>5</td>\n",
       "      <td>8</td>\n",
       "    </tr>\n",
       "    <tr>\n",
       "      <th>2</th>\n",
       "      <td>3</td>\n",
       "      <td>6</td>\n",
       "      <td>9</td>\n",
       "    </tr>\n",
       "  </tbody>\n",
       "</table>\n",
       "</div>"
      ],
      "text/plain": [
       "   A  B  C\n",
       "0  1  4  7\n",
       "1  2  5  8\n",
       "2  3  6  9"
      ]
     },
     "execution_count": 56,
     "metadata": {},
     "output_type": "execute_result"
    }
   ],
   "source": [
    "data = {\n",
    "    'A': [1, 2, 3],\n",
    "    'B': [4, 5, 6],\n",
    "    'C': [7, 8, 9]\n",
    "}\n",
    "\n",
    "df = pd.DataFrame(data)\n",
    "df"
   ]
  },
  {
   "cell_type": "code",
   "execution_count": 57,
   "id": "5beb8454",
   "metadata": {},
   "outputs": [
    {
     "name": "stdout",
     "output_type": "stream",
     "text": [
      "   Unnamed: 0  S.No Name  Age\n",
      "0           0     1    A   20\n",
      "1           1     2    B   21\n",
      "2           2     3    C   22\n",
      "3           3     4    D   23\n",
      "4           4     5    E   55\n",
      "5           5     6    F   44\n",
      "6           6     7    G   44\n",
      "7           7     8    H   44\n"
     ]
    }
   ],
   "source": [
    "df = pd.read_csv(\"file1.csv\")\n",
    "# df = pd.read_xlsx()\n",
    "print(df)"
   ]
  },
  {
   "cell_type": "code",
   "execution_count": 58,
   "id": "15fa0cef",
   "metadata": {},
   "outputs": [],
   "source": [
    "df.to_csv(\"file2.csv\")\n",
    "# df.to_xlsx()"
   ]
  },
  {
   "cell_type": "code",
   "execution_count": 59,
   "id": "02a50c1f",
   "metadata": {},
   "outputs": [
    {
     "name": "stdout",
     "output_type": "stream",
     "text": [
      "   Unnamed: 0  S.No Name  Age\n",
      "0           0     1    A   20\n",
      "1           1     2    B   21\n",
      "2           2     3    C   22\n",
      "3           3     4    D   23\n",
      "4           4     5    E   55\n",
      "   Unnamed: 0  S.No Name  Age\n",
      "3           3     4    D   23\n",
      "4           4     5    E   55\n",
      "5           5     6    F   44\n",
      "6           6     7    G   44\n",
      "7           7     8    H   44\n",
      "   Unnamed: 0  S.No Name  Age\n",
      "0           0     1    A   20\n",
      "1           1     2    B   21\n",
      "2           2     3    C   22\n",
      "   Unnamed: 0  S.No Name  Age\n",
      "0           0     1    A   20\n",
      "1           1     2    B   21\n",
      "2           2     3    C   22\n",
      "3           3     4    D   23\n",
      "4           4     5    E   55\n",
      "5           5     6    F   44\n",
      "6           6     7    G   44\n",
      "7           7     8    H   44\n",
      "<class 'pandas.core.frame.DataFrame'>\n",
      "RangeIndex: 8 entries, 0 to 7\n",
      "Data columns (total 4 columns):\n",
      " #   Column      Non-Null Count  Dtype \n",
      "---  ------      --------------  ----- \n",
      " 0   Unnamed: 0  8 non-null      int64 \n",
      " 1   S.No        8 non-null      int64 \n",
      " 2   Name        8 non-null      object\n",
      " 3   Age         8 non-null      int64 \n",
      "dtypes: int64(3), object(1)\n",
      "memory usage: 388.0+ bytes\n",
      "None\n",
      "       Unnamed: 0     S.No        Age\n",
      "count     8.00000  8.00000   8.000000\n",
      "mean      3.50000  4.50000  34.125000\n",
      "std       2.44949  2.44949  13.994259\n",
      "min       0.00000  1.00000  20.000000\n",
      "25%       1.75000  2.75000  21.750000\n",
      "50%       3.50000  4.50000  33.500000\n",
      "75%       5.25000  6.25000  44.000000\n",
      "max       7.00000  8.00000  55.000000\n",
      "(8, 4)\n"
     ]
    }
   ],
   "source": [
    "\n",
    "print(df.head())# Print the first 5 rows\n",
    "print(df.tail())# Print the last 5 rows\n",
    "\n",
    "print(df.head(3))\n",
    "print(df.tail(10))\n",
    "\n",
    "print(df.info())\n",
    "\n",
    "print(df.describe())\n",
    "print(df.shape)"
   ]
  },
  {
   "cell_type": "code",
   "execution_count": 60,
   "id": "09f7eacd",
   "metadata": {},
   "outputs": [
    {
     "name": "stdout",
     "output_type": "stream",
     "text": [
      "C\n"
     ]
    }
   ],
   "source": [
    "# print(df[\"Name\"])# Selecting single column\n",
    "# print(df[[\"Name\", \"Age\"]]) # Selecting multiple columns\n",
    "\n",
    "# print(df.iloc[0])# Selecting single row by index\n",
    "print(df.loc[2,\"Name\"])# Selecting single row by index and column name"
   ]
  },
  {
   "cell_type": "code",
   "execution_count": 61,
   "id": "7816b226",
   "metadata": {},
   "outputs": [
    {
     "name": "stdout",
     "output_type": "stream",
     "text": [
      "   Unnamed: 0  S.No Name  Age\n",
      "4           4     5    E   55\n",
      "5           5     6    F   44\n",
      "6           6     7    G   44\n",
      "7           7     8    H   44\n",
      "   Unnamed: 0  S.No Name  Age\n",
      "0           0     1    A   20\n",
      "1           1     2    B   21\n",
      "2           2     3    C   22\n",
      "3           3     4    D   23\n",
      "4           4     5    E   55\n",
      "5           5     6    F   44\n",
      "6           6     7    G   44\n",
      "7           7     8    H   44\n"
     ]
    }
   ],
   "source": [
    "print(df[df[\"Age\"] > 30])\n",
    "print(df)"
   ]
  },
  {
   "cell_type": "code",
   "execution_count": 62,
   "id": "0a580057",
   "metadata": {},
   "outputs": [
    {
     "name": "stdout",
     "output_type": "stream",
     "text": [
      "   Unnamed: 0 Name  Age  Class\n",
      "0           0    A   20      1\n",
      "1           1    B   21      2\n",
      "2           2    C   22      3\n",
      "3           3    D   23      4\n",
      "4           4    E   55      5\n",
      "5           5    F   44      6\n",
      "6           6    G   44      7\n",
      "7           7    H   44      8\n"
     ]
    }
   ],
   "source": [
    "df[\"Class\"] = [1, 2, 3, 4, 5, 6, 7, 8]\n",
    "df\n",
    "\n",
    "df.drop(\"S.No\", axis=1, inplace=True)\n",
    "print(df)"
   ]
  },
  {
   "cell_type": "code",
   "execution_count": 63,
   "id": "7f82665c",
   "metadata": {},
   "outputs": [],
   "source": [
    "data = {\n",
    "    \"Name\": [\"A\", \"B\", \"C\"],\n",
    "    \"Marks\": [10, None, 30],\n",
    "    \"Age\": [20, 21, None]\n",
    "}"
   ]
  },
  {
   "cell_type": "code",
   "execution_count": 64,
   "id": "690bb146",
   "metadata": {},
   "outputs": [
    {
     "name": "stdout",
     "output_type": "stream",
     "text": [
      "  Name  Marks   Age\n",
      "0    A   10.0  20.0\n",
      "1    B    NaN  21.0\n",
      "2    C   30.0   NaN\n"
     ]
    }
   ],
   "source": [
    "df = pd.DataFrame(data)\n",
    "print(df)"
   ]
  },
  {
   "cell_type": "markdown",
   "id": "474671a9",
   "metadata": {},
   "source": [
    "# Handling Missing Data"
   ]
  },
  {
   "cell_type": "markdown",
   "id": "f5a0968f",
   "metadata": {},
   "source": [
    "### isnull() - Returns True if the value is missing"
   ]
  },
  {
   "cell_type": "code",
   "execution_count": 65,
   "id": "4c8463eb",
   "metadata": {},
   "outputs": [
    {
     "name": "stdout",
     "output_type": "stream",
     "text": [
      "    Name  Marks    Age\n",
      "0  False  False  False\n",
      "1  False   True  False\n",
      "2  False  False   True\n"
     ]
    }
   ],
   "source": [
    "print(df.isnull())"
   ]
  },
  {
   "cell_type": "code",
   "execution_count": 66,
   "id": "f9efd2dc",
   "metadata": {},
   "outputs": [
    {
     "data": {
      "text/html": [
       "<div>\n",
       "<style scoped>\n",
       "    .dataframe tbody tr th:only-of-type {\n",
       "        vertical-align: middle;\n",
       "    }\n",
       "\n",
       "    .dataframe tbody tr th {\n",
       "        vertical-align: top;\n",
       "    }\n",
       "\n",
       "    .dataframe thead th {\n",
       "        text-align: right;\n",
       "    }\n",
       "</style>\n",
       "<table border=\"1\" class=\"dataframe\">\n",
       "  <thead>\n",
       "    <tr style=\"text-align: right;\">\n",
       "      <th></th>\n",
       "      <th>Name</th>\n",
       "      <th>Marks</th>\n",
       "      <th>Age</th>\n",
       "    </tr>\n",
       "  </thead>\n",
       "  <tbody>\n",
       "    <tr>\n",
       "      <th>0</th>\n",
       "      <td>A</td>\n",
       "      <td>10.0</td>\n",
       "      <td>20.0</td>\n",
       "    </tr>\n",
       "    <tr>\n",
       "      <th>1</th>\n",
       "      <td>B</td>\n",
       "      <td>NaN</td>\n",
       "      <td>21.0</td>\n",
       "    </tr>\n",
       "    <tr>\n",
       "      <th>2</th>\n",
       "      <td>C</td>\n",
       "      <td>30.0</td>\n",
       "      <td>NaN</td>\n",
       "    </tr>\n",
       "  </tbody>\n",
       "</table>\n",
       "</div>"
      ],
      "text/plain": [
       "  Name  Marks   Age\n",
       "0    A   10.0  20.0\n",
       "1    B    NaN  21.0\n",
       "2    C   30.0   NaN"
      ]
     },
     "execution_count": 66,
     "metadata": {},
     "output_type": "execute_result"
    }
   ],
   "source": [
    "# df.dropna(inplace=True)\n",
    "df"
   ]
  },
  {
   "cell_type": "code",
   "execution_count": 67,
   "id": "3e2fb7d0",
   "metadata": {},
   "outputs": [
    {
     "name": "stdout",
     "output_type": "stream",
     "text": [
      "  Name  Marks   Age\n",
      "0    A   10.0  20.0\n",
      "1    B   40.0  21.0\n",
      "2    C   30.0  20.5\n"
     ]
    },
    {
     "name": "stderr",
     "output_type": "stream",
     "text": [
      "C:\\Users\\ujjaw\\AppData\\Local\\Temp\\ipykernel_24172\\941579837.py:1: FutureWarning: A value is trying to be set on a copy of a DataFrame or Series through chained assignment using an inplace method.\n",
      "The behavior will change in pandas 3.0. This inplace method will never work because the intermediate object on which we are setting values always behaves as a copy.\n",
      "\n",
      "For example, when doing 'df[col].method(value, inplace=True)', try using 'df.method({col: value}, inplace=True)' or df[col] = df[col].method(value) instead, to perform the operation inplace on the original object.\n",
      "\n",
      "\n",
      "  df[\"Marks\"].fillna(df[\"Marks\"].sum(), inplace=True)\n",
      "C:\\Users\\ujjaw\\AppData\\Local\\Temp\\ipykernel_24172\\941579837.py:3: FutureWarning: A value is trying to be set on a copy of a DataFrame or Series through chained assignment using an inplace method.\n",
      "The behavior will change in pandas 3.0. This inplace method will never work because the intermediate object on which we are setting values always behaves as a copy.\n",
      "\n",
      "For example, when doing 'df[col].method(value, inplace=True)', try using 'df.method({col: value}, inplace=True)' or df[col] = df[col].method(value) instead, to perform the operation inplace on the original object.\n",
      "\n",
      "\n",
      "  df[\"Age\"].fillna(df[\"Age\"].mean(), inplace=True)\n"
     ]
    }
   ],
   "source": [
    "df[\"Marks\"].fillna(df[\"Marks\"].sum(), inplace=True)\n",
    "\n",
    "df[\"Age\"].fillna(df[\"Age\"].mean(), inplace=True)\n",
    "\n",
    "print(df)"
   ]
  },
  {
   "cell_type": "code",
   "execution_count": 68,
   "id": "e22f498c",
   "metadata": {},
   "outputs": [],
   "source": [
    "# sum mean max min count median std"
   ]
  },
  {
   "cell_type": "code",
   "execution_count": null,
   "id": "99a3bfc4",
   "metadata": {},
   "outputs": [
    {
     "name": "stdout",
     "output_type": "stream",
     "text": [
      "   A  B  C   A   B   D\n",
      "0  1  4  7  10  40  70\n",
      "1  2  5  8  20  50  80\n",
      "2  3  6  9  30  60  90\n"
     ]
    }
   ],
   "source": [
    "df1 = pd.DataFrame({\"A\": [1, 2, 3], \"B\": [4, 5, 6], \"C\": [7, 8, 9]})\n",
    "df2 = pd.DataFrame({\"A\": [10, 20, 30], \"B\": [40, 50, 60], \"D\": [70, 80, 90]})\n",
    "\n",
    "print(pd.concat([df1,df2]))# by default axis=0 for vertical concatenation\n",
    "print(pd.concat([df1,df2], axis=1))# for horizontal concatenation"
   ]
  },
  {
   "cell_type": "code",
   "execution_count": null,
   "id": "7d78b9e5",
   "metadata": {},
   "outputs": [],
   "source": []
  }
 ],
 "metadata": {
  "kernelspec": {
   "display_name": "condaenv",
   "language": "python",
   "name": "condaenv"
  },
  "language_info": {
   "codemirror_mode": {
    "name": "ipython",
    "version": 3
   },
   "file_extension": ".py",
   "mimetype": "text/x-python",
   "name": "python",
   "nbconvert_exporter": "python",
   "pygments_lexer": "ipython3",
   "version": "3.12.7"
  }
 },
 "nbformat": 4,
 "nbformat_minor": 5
}
