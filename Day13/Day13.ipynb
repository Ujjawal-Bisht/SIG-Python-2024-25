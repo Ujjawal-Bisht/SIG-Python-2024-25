{
 "cells": [
  {
   "cell_type": "code",
   "execution_count": 21,
   "id": "ed80c4e9",
   "metadata": {},
   "outputs": [],
   "source": [
    "import numpy as np\n",
    "import pandas as pd"
   ]
  },
  {
   "cell_type": "code",
   "execution_count": 22,
   "id": "a0ae816a",
   "metadata": {},
   "outputs": [
    {
     "name": "stdout",
     "output_type": "stream",
     "text": [
      "       Name Class  Subject  Marks   Age\n",
      "0    Hannah     B  Science    NaN   NaN\n",
      "1       Eve     B     Math  106.0   NaN\n",
      "2       Eve     B  Science    NaN   NaN\n",
      "3   Charlie     C  Science   19.0   NaN\n",
      "4     Grace     C  Science    NaN  16.0\n",
      "5   Charlie     B  Science    NaN  23.0\n",
      "6     Grace     B  Science    NaN  17.0\n",
      "7    Hannah     C  English    NaN   NaN\n",
      "8     Frank     A  English   64.0   NaN\n",
      "9       Eve     A  English  104.0  16.0\n",
      "10    Alice     B  English    NaN  23.0\n",
      "11    Frank     C     Math   52.0   NaN\n",
      "12  Charlie     B  English   92.0   NaN\n",
      "13    David     B     Math    NaN   NaN\n",
      "14   Hannah     A  Science  104.0  21.0\n",
      "15      Bob     B  English    NaN   NaN\n",
      "16    Frank     B  English    NaN   NaN\n",
      "17      Eve     B  English   27.0  23.0\n",
      "18      Eve     A  Science    NaN   NaN\n",
      "19      Eve     C  Science    NaN  22.0\n",
      "20      NaN     B     Math   47.0   NaN\n",
      "21      NaN     A     Math    NaN   NaN\n",
      "22      Bob     A  English   39.0   NaN\n",
      "23      Eve     B  Science   -3.0  20.0\n",
      "24      Ivy     A  English   75.0   NaN\n",
      "25  Charlie     C  English    NaN  18.0\n",
      "26  Charlie     A     Math    NaN  25.0\n",
      "27      Bob     A     Math   57.0   NaN\n",
      "28      Eve     A     Math   77.0   NaN\n",
      "29      Ivy     A     Math    NaN  16.0\n",
      "30     Jack     B     Math   74.0  25.0\n",
      "31     Jack     A  English   15.0  15.0\n",
      "32      Bob     C  Science   53.0   NaN\n",
      "33    Grace     C  Science    NaN  24.0\n",
      "34     Jack     C     Math    NaN  19.0\n",
      "35      NaN     A     Math   31.0  15.0\n",
      "36      Eve     B     Math   60.0   NaN\n",
      "37    Alice     A  English    NaN   NaN\n",
      "38      NaN     C     Math    NaN   NaN\n",
      "39  Charlie     C     Math    NaN   NaN\n",
      "40      Ivy     A     Math   26.0   NaN\n",
      "41    David     C     Math    NaN   NaN\n",
      "42     Jack     B  English    NaN  15.0\n",
      "43    Alice     C  Science    NaN   NaN\n",
      "44      Ivy     B  English   50.0  24.0\n",
      "45   Hannah     A  English   11.0  23.0\n",
      "46    Grace     C  Science    NaN  21.0\n",
      "47     Jack     C     Math    NaN   NaN\n",
      "48      Eve     C  Science   33.0  25.0\n",
      "49    Frank     B  English    NaN  18.0\n",
      "50   Hannah     B  Science    NaN   NaN\n",
      "51      Eve     B     Math  106.0   NaN\n",
      "52      Eve     B  Science    NaN   NaN\n",
      "53  Charlie     C  Science   19.0   NaN\n",
      "54    Grace     C  Science    NaN  16.0\n"
     ]
    }
   ],
   "source": [
    "df = pd.read_csv('student_dataset.csv')\n",
    "print(df)"
   ]
  },
  {
   "cell_type": "code",
   "execution_count": 23,
   "id": "49c1d7ea",
   "metadata": {},
   "outputs": [
    {
     "name": "stdout",
     "output_type": "stream",
     "text": [
      "Name        7.27\n",
      "Class       0.00\n",
      "Subject     0.00\n",
      "Marks      54.55\n",
      "Age        56.36\n",
      "dtype: float64\n"
     ]
    }
   ],
   "source": [
    "# print(df.isnull().sum())\n",
    "print((df.isnull().mean()*100).round(2))"
   ]
  },
  {
   "cell_type": "code",
   "execution_count": 24,
   "id": "b6952c59",
   "metadata": {},
   "outputs": [
    {
     "name": "stderr",
     "output_type": "stream",
     "text": [
      "C:\\Users\\ujjaw\\AppData\\Local\\Temp\\ipykernel_6988\\2653986269.py:1: FutureWarning: A value is trying to be set on a copy of a DataFrame or Series through chained assignment using an inplace method.\n",
      "The behavior will change in pandas 3.0. This inplace method will never work because the intermediate object on which we are setting values always behaves as a copy.\n",
      "\n",
      "For example, when doing 'df[col].method(value, inplace=True)', try using 'df.method({col: value}, inplace=True)' or df[col] = df[col].method(value) instead, to perform the operation inplace on the original object.\n",
      "\n",
      "\n",
      "  df[\"Name\"].fillna(\"Unknown\", inplace = True)\n"
     ]
    }
   ],
   "source": [
    "df[\"Name\"].fillna(\"Unknown\", inplace = True)"
   ]
  },
  {
   "cell_type": "code",
   "execution_count": 25,
   "id": "e7120d1b",
   "metadata": {},
   "outputs": [
    {
     "name": "stdout",
     "output_type": "stream",
     "text": [
      "Name        0.00\n",
      "Class       0.00\n",
      "Subject     0.00\n",
      "Marks      54.55\n",
      "Age        56.36\n",
      "dtype: float64\n"
     ]
    }
   ],
   "source": [
    "print((df.isnull().mean()*100).round(2))"
   ]
  },
  {
   "cell_type": "code",
   "execution_count": 26,
   "id": "75e175ae",
   "metadata": {},
   "outputs": [],
   "source": [
    "df[\"Marks\"] = df[\"Marks\"].fillna(df[\"Marks\"].mean())\n",
    "df[\"Age\"] = df[\"Age\"].fillna(df[\"Age\"].median())\n",
    "\n",
    "# Dropna"
   ]
  },
  {
   "cell_type": "code",
   "execution_count": 27,
   "id": "a35a4554",
   "metadata": {},
   "outputs": [
    {
     "name": "stdout",
     "output_type": "stream",
     "text": [
      "Name       0.0\n",
      "Class      0.0\n",
      "Subject    0.0\n",
      "Marks      0.0\n",
      "Age        0.0\n",
      "dtype: float64\n"
     ]
    }
   ],
   "source": [
    "print((df.isnull().mean()*100).round(2))"
   ]
  },
  {
   "cell_type": "code",
   "execution_count": 28,
   "id": "eda01b0f",
   "metadata": {},
   "outputs": [
    {
     "name": "stdout",
     "output_type": "stream",
     "text": [
      "       Name Class  Subject   Marks   Age\n",
      "0    Hannah     B  Science   53.52  20.5\n",
      "1       Eve     B     Math  106.00  20.5\n",
      "2       Eve     B  Science   53.52  20.5\n",
      "3   Charlie     C  Science   19.00  20.5\n",
      "4     Grace     C  Science   53.52  16.0\n",
      "5   Charlie     B  Science   53.52  23.0\n",
      "6     Grace     B  Science   53.52  17.0\n",
      "7    Hannah     C  English   53.52  20.5\n",
      "8     Frank     A  English   64.00  20.5\n",
      "9       Eve     A  English  104.00  16.0\n",
      "10    Alice     B  English   53.52  23.0\n",
      "11    Frank     C     Math   52.00  20.5\n",
      "12  Charlie     B  English   92.00  20.5\n",
      "13    David     B     Math   53.52  20.5\n",
      "14   Hannah     A  Science  104.00  21.0\n",
      "15      Bob     B  English   53.52  20.5\n",
      "16    Frank     B  English   53.52  20.5\n",
      "17      Eve     B  English   27.00  23.0\n",
      "18      Eve     A  Science   53.52  20.5\n",
      "19      Eve     C  Science   53.52  22.0\n",
      "20  Unknown     B     Math   47.00  20.5\n",
      "21  Unknown     A     Math   53.52  20.5\n",
      "22      Bob     A  English   39.00  20.5\n",
      "23      Eve     B  Science   -3.00  20.0\n",
      "24      Ivy     A  English   75.00  20.5\n",
      "25  Charlie     C  English   53.52  18.0\n",
      "26  Charlie     A     Math   53.52  25.0\n",
      "27      Bob     A     Math   57.00  20.5\n",
      "28      Eve     A     Math   77.00  20.5\n",
      "29      Ivy     A     Math   53.52  16.0\n",
      "30     Jack     B     Math   74.00  25.0\n",
      "31     Jack     A  English   15.00  15.0\n",
      "32      Bob     C  Science   53.00  20.5\n",
      "33    Grace     C  Science   53.52  24.0\n",
      "34     Jack     C     Math   53.52  19.0\n",
      "35  Unknown     A     Math   31.00  15.0\n",
      "36      Eve     B     Math   60.00  20.5\n",
      "37    Alice     A  English   53.52  20.5\n",
      "38  Unknown     C     Math   53.52  20.5\n",
      "39  Charlie     C     Math   53.52  20.5\n",
      "40      Ivy     A     Math   26.00  20.5\n",
      "41    David     C     Math   53.52  20.5\n",
      "42     Jack     B  English   53.52  15.0\n",
      "43    Alice     C  Science   53.52  20.5\n",
      "44      Ivy     B  English   50.00  24.0\n",
      "45   Hannah     A  English   11.00  23.0\n",
      "46    Grace     C  Science   53.52  21.0\n",
      "47     Jack     C     Math   53.52  20.5\n",
      "48      Eve     C  Science   33.00  25.0\n",
      "49    Frank     B  English   53.52  18.0\n",
      "50   Hannah     B  Science   53.52  20.5\n",
      "51      Eve     B     Math  106.00  20.5\n",
      "52      Eve     B  Science   53.52  20.5\n",
      "53  Charlie     C  Science   19.00  20.5\n",
      "54    Grace     C  Science   53.52  16.0\n"
     ]
    }
   ],
   "source": [
    "print(df)"
   ]
  },
  {
   "cell_type": "code",
   "execution_count": 29,
   "id": "bbadfbae",
   "metadata": {},
   "outputs": [
    {
     "name": "stdout",
     "output_type": "stream",
     "text": [
      "       Name Class  Subject   Marks   Age\n",
      "0    Hannah     B  Science   53.52  20.5\n",
      "1       Eve     B     Math  106.00  20.5\n",
      "2       Eve     B  Science   53.52  20.5\n",
      "3   Charlie     C  Science   19.00  20.5\n",
      "4     Grace     C  Science   53.52  16.0\n",
      "5   Charlie     B  Science   53.52  23.0\n",
      "6     Grace     B  Science   53.52  17.0\n",
      "7    Hannah     C  English   53.52  20.5\n",
      "8     Frank     A  English   64.00  20.5\n",
      "9       Eve     A  English  104.00  16.0\n",
      "10    Alice     B  English   53.52  23.0\n",
      "11    Frank     C     Math   52.00  20.5\n",
      "12  Charlie     B  English   92.00  20.5\n",
      "13    David     B     Math   53.52  20.5\n",
      "14   Hannah     A  Science  104.00  21.0\n",
      "15      Bob     B  English   53.52  20.5\n",
      "16    Frank     B  English   53.52  20.5\n",
      "17      Eve     B  English   27.00  23.0\n",
      "18      Eve     A  Science   53.52  20.5\n",
      "19      Eve     C  Science   53.52  22.0\n",
      "20  Unknown     B     Math   47.00  20.5\n",
      "21  Unknown     A     Math   53.52  20.5\n",
      "22      Bob     A  English   39.00  20.5\n",
      "23      Eve     B  Science   -3.00  20.0\n",
      "24      Ivy     A  English   75.00  20.5\n",
      "25  Charlie     C  English   53.52  18.0\n",
      "26  Charlie     A     Math   53.52  25.0\n",
      "27      Bob     A     Math   57.00  20.5\n",
      "28      Eve     A     Math   77.00  20.5\n",
      "29      Ivy     A     Math   53.52  16.0\n",
      "30     Jack     B     Math   74.00  25.0\n",
      "31     Jack     A  English   15.00  15.0\n",
      "32      Bob     C  Science   53.00  20.5\n",
      "33    Grace     C  Science   53.52  24.0\n",
      "34     Jack     C     Math   53.52  19.0\n",
      "35  Unknown     A     Math   31.00  15.0\n",
      "36      Eve     B     Math   60.00  20.5\n",
      "37    Alice     A  English   53.52  20.5\n",
      "38  Unknown     C     Math   53.52  20.5\n",
      "39  Charlie     C     Math   53.52  20.5\n",
      "40      Ivy     A     Math   26.00  20.5\n",
      "41    David     C     Math   53.52  20.5\n",
      "42     Jack     B  English   53.52  15.0\n",
      "43    Alice     C  Science   53.52  20.5\n",
      "44      Ivy     B  English   50.00  24.0\n",
      "45   Hannah     A  English   11.00  23.0\n",
      "46    Grace     C  Science   53.52  21.0\n",
      "47     Jack     C     Math   53.52  20.5\n",
      "48      Eve     C  Science   33.00  25.0\n",
      "49    Frank     B  English   53.52  18.0\n"
     ]
    }
   ],
   "source": [
    "df = df.drop_duplicates()\n",
    "print(df)"
   ]
  },
  {
   "cell_type": "code",
   "execution_count": 30,
   "id": "0998a1c1",
   "metadata": {},
   "outputs": [
    {
     "name": "stdout",
     "output_type": "stream",
     "text": [
      "       Name Class  Subject  Marks   Age\n",
      "0    Hannah     B  Science  53.52  20.5\n",
      "2       Eve     B  Science  53.52  20.5\n",
      "3   Charlie     C  Science  19.00  20.5\n",
      "4     Grace     C  Science  53.52  16.0\n",
      "5   Charlie     B  Science  53.52  23.0\n",
      "6     Grace     B  Science  53.52  17.0\n",
      "7    Hannah     C  English  53.52  20.5\n",
      "8     Frank     A  English  64.00  20.5\n",
      "10    Alice     B  English  53.52  23.0\n",
      "11    Frank     C     Math  52.00  20.5\n",
      "12  Charlie     B  English  92.00  20.5\n",
      "13    David     B     Math  53.52  20.5\n",
      "15      Bob     B  English  53.52  20.5\n",
      "16    Frank     B  English  53.52  20.5\n",
      "17      Eve     B  English  27.00  23.0\n",
      "18      Eve     A  Science  53.52  20.5\n",
      "19      Eve     C  Science  53.52  22.0\n",
      "20  Unknown     B     Math  47.00  20.5\n",
      "21  Unknown     A     Math  53.52  20.5\n",
      "22      Bob     A  English  39.00  20.5\n",
      "24      Ivy     A  English  75.00  20.5\n",
      "25  Charlie     C  English  53.52  18.0\n",
      "26  Charlie     A     Math  53.52  25.0\n",
      "27      Bob     A     Math  57.00  20.5\n",
      "28      Eve     A     Math  77.00  20.5\n",
      "29      Ivy     A     Math  53.52  16.0\n",
      "30     Jack     B     Math  74.00  25.0\n",
      "31     Jack     A  English  15.00  15.0\n",
      "32      Bob     C  Science  53.00  20.5\n",
      "33    Grace     C  Science  53.52  24.0\n",
      "34     Jack     C     Math  53.52  19.0\n",
      "35  Unknown     A     Math  31.00  15.0\n",
      "36      Eve     B     Math  60.00  20.5\n",
      "37    Alice     A  English  53.52  20.5\n",
      "38  Unknown     C     Math  53.52  20.5\n",
      "39  Charlie     C     Math  53.52  20.5\n",
      "40      Ivy     A     Math  26.00  20.5\n",
      "41    David     C     Math  53.52  20.5\n",
      "42     Jack     B  English  53.52  15.0\n",
      "43    Alice     C  Science  53.52  20.5\n",
      "44      Ivy     B  English  50.00  24.0\n",
      "45   Hannah     A  English  11.00  23.0\n",
      "46    Grace     C  Science  53.52  21.0\n",
      "47     Jack     C     Math  53.52  20.5\n",
      "48      Eve     C  Science  33.00  25.0\n",
      "49    Frank     B  English  53.52  18.0\n"
     ]
    }
   ],
   "source": [
    "df = df[(df['Marks']>0) & (df['Marks']<100)]\n",
    "df = df[(df['Age']>0) & (df['Age']<100)]\n",
    "print(df)\n",
    "\n"
   ]
  },
  {
   "cell_type": "code",
   "execution_count": 31,
   "id": "0ca1f3af",
   "metadata": {},
   "outputs": [],
   "source": [
    "# Column -> First Name\n",
    "df.rename(columns={'Class': 'Section'}, inplace=True)"
   ]
  },
  {
   "cell_type": "code",
   "execution_count": 32,
   "id": "3c289396",
   "metadata": {},
   "outputs": [
    {
     "name": "stdout",
     "output_type": "stream",
     "text": [
      "       Name Section  Subject  Marks   Age\n",
      "0    Hannah       B  Science  53.52  20.5\n",
      "2       Eve       B  Science  53.52  20.5\n",
      "3   Charlie       C  Science  19.00  20.5\n",
      "4     Grace       C  Science  53.52  16.0\n",
      "5   Charlie       B  Science  53.52  23.0\n",
      "6     Grace       B  Science  53.52  17.0\n",
      "7    Hannah       C  English  53.52  20.5\n",
      "8     Frank       A  English  64.00  20.5\n",
      "10    Alice       B  English  53.52  23.0\n",
      "11    Frank       C     Math  52.00  20.5\n",
      "12  Charlie       B  English  92.00  20.5\n",
      "13    David       B     Math  53.52  20.5\n",
      "15      Bob       B  English  53.52  20.5\n",
      "16    Frank       B  English  53.52  20.5\n",
      "17      Eve       B  English  27.00  23.0\n",
      "18      Eve       A  Science  53.52  20.5\n",
      "19      Eve       C  Science  53.52  22.0\n",
      "20  Unknown       B     Math  47.00  20.5\n",
      "21  Unknown       A     Math  53.52  20.5\n",
      "22      Bob       A  English  39.00  20.5\n",
      "24      Ivy       A  English  75.00  20.5\n",
      "25  Charlie       C  English  53.52  18.0\n",
      "26  Charlie       A     Math  53.52  25.0\n",
      "27      Bob       A     Math  57.00  20.5\n",
      "28      Eve       A     Math  77.00  20.5\n",
      "29      Ivy       A     Math  53.52  16.0\n",
      "30     Jack       B     Math  74.00  25.0\n",
      "31     Jack       A  English  15.00  15.0\n",
      "32      Bob       C  Science  53.00  20.5\n",
      "33    Grace       C  Science  53.52  24.0\n",
      "34     Jack       C     Math  53.52  19.0\n",
      "35  Unknown       A     Math  31.00  15.0\n",
      "36      Eve       B     Math  60.00  20.5\n",
      "37    Alice       A  English  53.52  20.5\n",
      "38  Unknown       C     Math  53.52  20.5\n",
      "39  Charlie       C     Math  53.52  20.5\n",
      "40      Ivy       A     Math  26.00  20.5\n",
      "41    David       C     Math  53.52  20.5\n",
      "42     Jack       B  English  53.52  15.0\n",
      "43    Alice       C  Science  53.52  20.5\n",
      "44      Ivy       B  English  50.00  24.0\n",
      "45   Hannah       A  English  11.00  23.0\n",
      "46    Grace       C  Science  53.52  21.0\n",
      "47     Jack       C     Math  53.52  20.5\n",
      "48      Eve       C  Science  33.00  25.0\n",
      "49    Frank       B  English  53.52  18.0\n"
     ]
    }
   ],
   "source": [
    "print(df)"
   ]
  },
  {
   "cell_type": "code",
   "execution_count": 33,
   "id": "d76da88e",
   "metadata": {},
   "outputs": [
    {
     "name": "stdout",
     "output_type": "stream",
     "text": [
      "<class 'pandas.core.frame.DataFrame'>\n",
      "Index: 46 entries, 0 to 49\n",
      "Data columns (total 5 columns):\n",
      " #   Column   Non-Null Count  Dtype  \n",
      "---  ------   --------------  -----  \n",
      " 0   Name     46 non-null     object \n",
      " 1   Section  46 non-null     object \n",
      " 2   Subject  46 non-null     object \n",
      " 3   Marks    46 non-null     float64\n",
      " 4   Age      46 non-null     float64\n",
      "dtypes: float64(2), object(3)\n",
      "memory usage: 2.2+ KB\n"
     ]
    }
   ],
   "source": [
    "df.info()"
   ]
  },
  {
   "cell_type": "code",
   "execution_count": 36,
   "id": "3c7b551e",
   "metadata": {},
   "outputs": [],
   "source": [
    "df[\"Name\"] = df[\"Name\"].astype(\"string\")\n",
    "df[\"Section\"] = df[\"Section\"].astype(\"string\")\n",
    "df['Subject'] = df['Subject'].astype(\"string\")\n",
    "df[\"Age\"] = df[\"Age\"].astype(\"int\")"
   ]
  },
  {
   "cell_type": "code",
   "execution_count": 37,
   "id": "b077b252",
   "metadata": {},
   "outputs": [
    {
     "name": "stdout",
     "output_type": "stream",
     "text": [
      "<class 'pandas.core.frame.DataFrame'>\n",
      "Index: 46 entries, 0 to 49\n",
      "Data columns (total 5 columns):\n",
      " #   Column   Non-Null Count  Dtype  \n",
      "---  ------   --------------  -----  \n",
      " 0   Name     46 non-null     string \n",
      " 1   Section  46 non-null     string \n",
      " 2   Subject  46 non-null     string \n",
      " 3   Marks    46 non-null     float64\n",
      " 4   Age      46 non-null     int32  \n",
      "dtypes: float64(1), int32(1), string(3)\n",
      "memory usage: 2.0 KB\n"
     ]
    }
   ],
   "source": [
    "df.info()"
   ]
  },
  {
   "cell_type": "code",
   "execution_count": 38,
   "id": "b25bd495",
   "metadata": {},
   "outputs": [],
   "source": [
    "# Saving\n",
    "\n",
    "df.to_csv(\"cleaned_dataset.csv\", index = False)"
   ]
  },
  {
   "cell_type": "code",
   "execution_count": null,
   "id": "c058c2ed",
   "metadata": {},
   "outputs": [],
   "source": []
  }
 ],
 "metadata": {
  "kernelspec": {
   "display_name": "condaenv",
   "language": "python",
   "name": "condaenv"
  },
  "language_info": {
   "codemirror_mode": {
    "name": "ipython",
    "version": 3
   },
   "file_extension": ".py",
   "mimetype": "text/x-python",
   "name": "python",
   "nbconvert_exporter": "python",
   "pygments_lexer": "ipython3",
   "version": "3.12.7"
  }
 },
 "nbformat": 4,
 "nbformat_minor": 5
}
